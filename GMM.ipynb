{
 "cells": [
  {
   "cell_type": "markdown",
   "metadata": {},
   "source": [
    "# Recommendation System via a Gaussian Mixture Model and the EM algorithm for Matrix Completion"
   ]
  },
  {
   "cell_type": "markdown",
   "metadata": {},
   "source": [
    "We build the entire model using only Numpy."
   ]
  },
  {
   "cell_type": "code",
   "execution_count": 1,
   "metadata": {},
   "outputs": [],
   "source": [
    "import numpy as np"
   ]
  },
  {
   "cell_type": "markdown",
   "metadata": {},
   "source": [
    "## The Data\n",
    "\n",
    "First we import our partially observed data matrix X along with the complete matrix which we will use as the ground truth to compare to later."
   ]
  },
  {
   "cell_type": "code",
   "execution_count": 2,
   "metadata": {},
   "outputs": [],
   "source": [
    "X = np.loadtxt('netflix_incomplete.txt')\n",
    "X_complete = np.loadtxt('netflix_complete.txt')"
   ]
  },
  {
   "cell_type": "markdown",
   "metadata": {},
   "source": [
    "We extract some fixed parameters from our data for convenience. "
   ]
  },
  {
   "cell_type": "code",
   "execution_count": 3,
   "metadata": {},
   "outputs": [],
   "source": [
    "# n: number of users, d: number of movies\n",
    "n, d = X.shape\n",
    "\n",
    "# K: number of clusters/Gaussians\n",
    "K = 12\n",
    "\n",
    "# delta: matrix indicating missing reviews\n",
    "delta = np.where(X == 0,0,1)"
   ]
  },
  {
   "cell_type": "markdown",
   "metadata": {},
   "source": [
    "## The Expectation Maximization (EM) Algorithm\n",
    "\n",
    "First we initialize the parameters of our mixture."
   ]
  },
  {
   "cell_type": "code",
   "execution_count": 4,
   "metadata": {},
   "outputs": [],
   "source": [
    "# mu: d-dimensional mean for each Gaussian\n",
    "np.random.seed(1)\n",
    "mu = X[np.random.choice(n, K, replace = False)]\n",
    "\n",
    "# p: weights for each Gaussian\n",
    "p = np.ones(K)/K\n",
    "\n",
    "# var: 1-dimensional variance for each Gaussian\n",
    "var = np.sum((mu*np.ones([n,K,d]) - X.reshape([n,1,d]))**2, axis=(0,2))/(n*d)"
   ]
  },
  {
   "cell_type": "markdown",
   "metadata": {},
   "source": [
    "We define a function for computing the squared norm which depends only on the current mu."
   ]
  },
  {
   "cell_type": "code",
   "execution_count": 5,
   "metadata": {},
   "outputs": [],
   "source": [
    "def compute_norm(mu):\n",
    "    U = (mu*np.ones([n,K,d]))*delta.reshape([n,1,d])\n",
    "    sub_stack = U - X.reshape([n,1,d])\n",
    "    return np.sum(sub_stack**2, axis = 2)"
   ]
  },
  {
   "cell_type": "markdown",
   "metadata": {},
   "source": [
    "### The E-step\n",
    "\n",
    "We define a function which runs the E-Step of the EM algorithm returning the soft counts (posterior) and the log-likelihood of the assignment."
   ]
  },
  {
   "cell_type": "code",
   "execution_count": 6,
   "metadata": {},
   "outputs": [],
   "source": [
    "def estep(X,mu,p,var):\n",
    "    \n",
    "    norm = compute_norm(mu)\n",
    "    \n",
    "    C_u = np.sum(delta,axis=1,keepdims=True)\n",
    "    logged_gauss = np.log(p) - C_u/2*np.log(2*np.pi*var*np.ones([n,K])) - norm/(2*var)\n",
    "    max_vector = np.amax(logged_gauss, axis=1, keepdims=True)\n",
    "    scaled_gauss = np.exp(logged_gauss - max_vector)\n",
    "    denom = max_vector + np.log(np.sum(scaled_gauss, axis=1, keepdims=True))\n",
    "    \n",
    "    log_post = logged_gauss - denom\n",
    "    log_likelihood = np.sum(denom)\n",
    "    \n",
    "    return np.exp(log_post), log_likelihood"
   ]
  },
  {
   "cell_type": "markdown",
   "metadata": {},
   "source": [
    "### The M-step\n",
    "\n",
    "We define a function which runs the M-Step of the EM algorithm returning the updated mixture."
   ]
  },
  {
   "cell_type": "code",
   "execution_count": 7,
   "metadata": {},
   "outputs": [],
   "source": [
    "def mstep(X, post, min_var, mu, p, var):\n",
    "    \n",
    "    norm = compute_norm(mu)\n",
    "    \n",
    "    #update mu\n",
    "    mu_numer = np.dot(X.T, post).T\n",
    "    mu_denom = np.dot(delta.T, post).T\n",
    "    mu = np.where(mu_denom >= 1, mu_numer/(mu_denom +1e-10), mu)\n",
    "    \n",
    "    #update var\n",
    "    C_u = np.sum(delta, axis=1, keepdims=True)\n",
    "    sum_factor = np.sum(post*norm, axis = 0)\n",
    "    first_factor = 1/np.sum(C_u*post, axis = 0)\n",
    "    var_bad = first_factor*sum_factor\n",
    "    var = np.where(var_bad < min_var, min_var, var_bad)\n",
    "    \n",
    "    #update p\n",
    "    p = np.sum(post, axis = 0)/n\n",
    "    \n",
    "    #update norm\n",
    "    norm = compute_norm(mu)\n",
    "    \n",
    "    return mu,p,var"
   ]
  },
  {
   "cell_type": "markdown",
   "metadata": {},
   "source": [
    "### Running the EM Algorithm\n",
    "\n",
    "We define a function which runs the entire EM algorithm using our E-step and M-step functions."
   ]
  },
  {
   "cell_type": "code",
   "execution_count": 8,
   "metadata": {},
   "outputs": [],
   "source": [
    "def run(X, mu, p ,var, min_var=.1):\n",
    "    \n",
    "    history = []\n",
    "    old_log = None\n",
    "    new_log = None\n",
    "    while old_log is None or (new_log - old_log > 1e-6*np.abs(new_log)):\n",
    "        old_log=new_log\n",
    "        \n",
    "        #E-step\n",
    "        post, new_log = estep(X, mu, p, var)\n",
    "        history.append(new_log)\n",
    "        \n",
    "        #M-step\n",
    "        mu, p, var = mstep(X, post, min_var, mu, p, var)\n",
    "    \n",
    "    return mu, p,var, post, new_log, history\n",
    "        \n",
    "mu, p, var, _, _, history = run(X, mu, p, var, 0.1)"
   ]
  },
  {
   "cell_type": "markdown",
   "metadata": {},
   "source": [
    "### Plotting the Log-Likelihood\n",
    "\n",
    "We will use MatPlotLib to plot the log-likelihood and confirm that our log-likelihood is increasing and shows signs of convergence."
   ]
  },
  {
   "cell_type": "code",
   "execution_count": 9,
   "metadata": {},
   "outputs": [
    {
     "data": {
      "image/png": "[encoded data removed]",
      "text/plain": [
       "<Figure size 432x288 with 1 Axes>"
      ]
     },
     "metadata": {
      "needs_background": "light"
     },
     "output_type": "display_data"
    }
   ],
   "source": [
    "import matplotlib.pyplot as plt\n",
    "\n",
    "plt.plot(history)\n",
    "plt.ylabel('Log Likelihood')\n",
    "plt.xlabel('EM Algorithm Step')\n",
    "plt.show()"
   ]
  },
  {
   "cell_type": "markdown",
   "metadata": {},
   "source": [
    "## Matrix Completion\n",
    "\n",
    "Next, we use our mixture to \"fill\" the incomplete matrix."
   ]
  },
  {
   "cell_type": "code",
   "execution_count": 10,
   "metadata": {},
   "outputs": [],
   "source": [
    "def fill(X,mu,p,var):\n",
    "    \n",
    "    post,_ = estep(X,mu,p,var)\n",
    "    X_pred = X.copy()\n",
    "    miss_indices = np.where(X == 0)\n",
    "    X_pred[miss_indices] = (post@mu)[miss_indices]\n",
    "    \n",
    "    return X_pred\n",
    "\n",
    "X_filled = fill(X,mu,p,var)"
   ]
  },
  {
   "cell_type": "markdown",
   "metadata": {},
   "source": [
    "## Evaluating our Model\n",
    "\n",
    "Finally we calculate the rmse between the complete and incomplete matrix. (It is important to know that the completed matrix was not used at all up to this point as in real world applications, we would not have access to that data.)"
   ]
  },
  {
   "cell_type": "code",
   "execution_count": 11,
   "metadata": {},
   "outputs": [
    {
     "name": "stdout",
     "output_type": "stream",
     "text": [
      "RMSE of the original incomplete matrix and the complete matrix is  1.6787480867863673\n",
      "RMSE of the newly-filled matrix and the complete matrix is  0.48253399427052135\n"
     ]
    }
   ],
   "source": [
    "def rmse(X, Y):\n",
    "    return np.sqrt(np.mean((X - Y)**2))\n",
    "\n",
    "print('RMSE of the original incomplete matrix and the complete matrix is ', rmse(X, X_complete))\n",
    "print('RMSE of the newly-filled matrix and the complete matrix is ', rmse(X_filled, X_complete))"
   ]
  },
  {
   "cell_type": "markdown",
   "metadata": {},
   "source": [
    "The RMSE is much lower, meaning that our filled matrix is now much closer to the completed matrix, the \"ground truth\", and is a good predictor of how much a viewer would enjoy a movie which they have not previously watched."
   ]
  }
 ],
 "metadata": {
  "kernelspec": {
   "display_name": "Python 3",
   "language": "python",
   "name": "python3"
  },
  "language_info": {
   "codemirror_mode": {
    "name": "ipython",
    "version": 3
   },
   "file_extension": ".py",
   "mimetype": "text/x-python",
   "name": "python",
   "nbconvert_exporter": "python",
   "pygments_lexer": "ipython3",
   "version": "3.7.6"
  }
 },
 "nbformat": 4,
 "nbformat_minor": 2
}
